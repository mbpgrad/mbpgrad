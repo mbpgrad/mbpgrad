{
 "cells": [
  {
   "cell_type": "markdown",
   "id": "69ba9426-e4cb-47bc-9095-87ca32cbe3ac",
   "metadata": {},
   "source": [
    "# Introduction to Python for Medical Imaging"
   ]
  },
  {
   "cell_type": "markdown",
   "id": "d8e2fe2c-110b-4a41-a3ed-2661c3fa72b3",
   "metadata": {},
   "source": [
    "## 1.1 Brief introduction to Jupyter Notebooks\n",
    "In Jupyter notebook, we have an installed version of Python on our local machine...\n",
    "Can create new cells for writing information known as \"markdown\", or \"code\" for step-by-step programming"
   ]
  },
  {
   "cell_type": "code",
   "execution_count": 10,
   "id": "8a65205c-6872-4e15-949f-0d3610004d58",
   "metadata": {},
   "outputs": [],
   "source": [
    "import pydicom as pyd\n",
    "import numpy as np"
   ]
  },
  {
   "cell_type": "markdown",
   "id": "62e9f2b2-029d-4744-b055-e7c742971329",
   "metadata": {},
   "source": [
    "### Keywords\n",
    "When naming variables or functions, there are many options. However, there are specific 'keywords' that are recognized with a programmatic meaning and will (depending on your IDE or programming space) be differentiated by a different color <br>\n",
    "Common keywords include: for, while, if, in, is, None, def, import, ... <br>\n",
    "Compared to other programming languages, reading Python is close to reading English <br>"
   ]
  },
  {
   "cell_type": "code",
   "execution_count": 12,
   "id": "d3977f89-71f8-4093-a5a3-08186b13e731",
   "metadata": {},
   "outputs": [
    {
     "name": "stdout",
     "output_type": "stream",
     "text": [
      "Ron is new to programming\n"
     ]
    }
   ],
   "source": [
    "name = 'Ronald'\n",
    "coding_experience = None\n",
    "if coding_experience is None:\n",
    "    print('Ron is new to programming')"
   ]
  },
  {
   "cell_type": "markdown",
   "id": "3cb3a828-18f8-4993-8742-521c668d545c",
   "metadata": {},
   "source": [
    "### Commenting\n",
    "We can comment in our out a section by using ctrl + /"
   ]
  },
  {
   "cell_type": "code",
   "execution_count": 40,
   "id": "d1b1206a-64b1-4faf-b4a2-54a363797afe",
   "metadata": {},
   "outputs": [
    {
     "name": "stdout",
     "output_type": "stream",
     "text": [
      "\n"
     ]
    }
   ],
   "source": [
    "# We can either comment using a hashtag\n",
    "\"\"\"\n",
    "or multiline comment \n",
    "by using triple quotes on either side\n",
    "\"\"\"\n",
    "print('')\n"
   ]
  },
  {
   "cell_type": "markdown",
   "id": "b9659be0-5ff5-49a9-b0c0-544eb6d9ba99",
   "metadata": {},
   "source": [
    "### Strings"
   ]
  },
  {
   "cell_type": "code",
   "execution_count": 4,
   "id": "93d7f328-f29e-4489-9607-d894c9f22ed8",
   "metadata": {},
   "outputs": [
    {
     "name": "stdout",
     "output_type": "stream",
     "text": [
      "6741\n",
      "a\n"
     ]
    }
   ],
   "source": [
    "str1 = 'abc'         # Equivalently, we can use \"\" in Python. There is no 'character' data type  \n",
    "str2 = ''            # empty string\n",
    "str3 = str(67)       # Type casting: from integer to string\n",
    "str4 = str3 + '41'   # string addition\n",
    "print(str4)\n",
    "print(str1[0])    "
   ]
  },
  {
   "cell_type": "code",
   "execution_count": 31,
   "id": "3ec2353e-b8f8-4c6f-b7f4-c478addce399",
   "metadata": {},
   "outputs": [
    {
     "name": "stdout",
     "output_type": "stream",
     "text": [
      "1st line\n",
      "2nd line\n"
     ]
    }
   ],
   "source": [
    "# Special characters \\n, \\t, etc\n",
    "print('1st line\\n2nd line')"
   ]
  },
  {
   "cell_type": "code",
   "execution_count": 34,
   "id": "a26c6af5-3268-46ca-a67e-983e6e8855ee",
   "metadata": {},
   "outputs": [
    {
     "name": "stdout",
     "output_type": "stream",
     "text": [
      "C:\\Users\\ddesarn\\Downloads\\Danny\n"
     ]
    }
   ],
   "source": [
    "# an 'r' before the string quotation marks reads with no special characters\n",
    "# main_dir = 'C:\\Users\\ddesarno\\Downloads\\Danny'\n",
    "# print(main_dir)\n",
    "main_dir2 = r'C:\\Users\\ddesarn\\Downloads\\Danny'\n",
    "print(main_dir2)"
   ]
  },
  {
   "cell_type": "markdown",
   "id": "0e9cf180-2554-4ed2-8d7a-e71cd36278a8",
   "metadata": {},
   "source": [
    "### Integers and Floats"
   ]
  },
  {
   "cell_type": "code",
   "execution_count": 6,
   "id": "a0227770-f1e6-49e6-88a4-8f515978406f",
   "metadata": {},
   "outputs": [
    {
     "name": "stdout",
     "output_type": "stream",
     "text": [
      "6.0\n",
      "<class 'float'>\n"
     ]
    }
   ],
   "source": [
    "int1 = 3\n",
    "int2 = float('3')\n",
    "print(int1+int2)\n",
    "print(type(int1+int2))"
   ]
  },
  {
   "cell_type": "markdown",
   "id": "3d98b3df-1e40-4d84-b844-9f01a5611de2",
   "metadata": {},
   "source": [
    "### Booleans and Conditionals"
   ]
  },
  {
   "cell_type": "code",
   "execution_count": 30,
   "id": "adec61d8-613d-4864-a87b-67a1892f8254",
   "metadata": {},
   "outputs": [
    {
     "name": "stdout",
     "output_type": "stream",
     "text": [
      "False\n",
      "3 abc\n",
      "abc \n",
      "024\n"
     ]
    }
   ],
   "source": [
    "if str1 == str2:  # conditionals give you either True or False, which are booleans\n",
    "    print('true!')\n",
    "else:\n",
    "    print(False)\n",
    "\n",
    "bool1 = True\n",
    "\n",
    "print(len(str1), str1)\n",
    "print(str1, str2)\n",
    "\n",
    "len(str1)  # 0\n",
    "\n",
    "tiaArrayStart = ''  # camel case NOT USED FOR PYTHON\n",
    "\n",
    "list1 = []  # empty list\n",
    "print(str(len(list1)) + '24')  # size of a list"
   ]
  },
  {
   "cell_type": "markdown",
   "id": "712c8e51-6b0f-494a-9d7c-356deb16d27e",
   "metadata": {},
   "source": [
    "### Lists"
   ]
  },
  {
   "cell_type": "code",
   "execution_count": 7,
   "id": "7157a47f-e35d-422f-8797-2c10978d597e",
   "metadata": {},
   "outputs": [
    {
     "name": "stdout",
     "output_type": "stream",
     "text": [
      "[26, '67', 'bob']\n",
      "2\n",
      "5\n"
     ]
    }
   ],
   "source": [
    "list1 = [23, '67', 'bob']\n",
    "list1[0] = list1[0] + 3\n",
    "print(list1)\n",
    "abc = 1\n",
    "d = str('67676')\n",
    "list1 = [abc, d]\n",
    "print(len(list1))\n",
    "# print(len(list1[0]))\n",
    "print(len(list1[1]))"
   ]
  },
  {
   "cell_type": "markdown",
   "id": "b807b670-82df-4652-a888-4d2de8f1b2c5",
   "metadata": {},
   "source": [
    "### 2D List"
   ]
  },
  {
   "cell_type": "code",
   "execution_count": 13,
   "id": "d5c5d362-697e-4b48-b4bf-827a1d7618c5",
   "metadata": {},
   "outputs": [
    {
     "name": "stdout",
     "output_type": "stream",
     "text": [
      "[1, 2]\n",
      "[3, 4]\n",
      "[3, 7]\n"
     ]
    }
   ],
   "source": [
    "list3 = [[1, 2], [3, 4]]\n",
    "# list3 = [[1, 2],  # same as this one, just put it on the next line\n",
    "#          [3, 4]]\n",
    "# # print(len(list3))\n",
    "# # print(len(list3[0]))\n",
    "# print(list3[1][1])\n",
    "# list4 = [[5, 6]]\n",
    "# print(list3 + list4)\n",
    "list5 = []\n",
    "for ii in range(len(list3)):  # range( start stop step) ,  range(stop), range(start, stop)\n",
    "    print(list3[ii])\n",
    "    ele = 0  # element\n",
    "    for jj in range(len(list3[ii])):\n",
    "        ele += list3[ii][jj]  # ele = ele + list3...\n",
    "    list5.append(ele)\n",
    "print(list5)"
   ]
  },
  {
   "cell_type": "markdown",
   "id": "b1a37edb-637a-4661-9f44-d706c41c099b",
   "metadata": {},
   "source": [
    "### Functions\n",
    "For functions we use the keyword 'def' followed by a space, our function name, parenthesis, and inside those parenthesis our variables"
   ]
  },
  {
   "cell_type": "code",
   "execution_count": 28,
   "id": "5c35f5b4-bf4e-4de5-9ad9-ffdc7056b260",
   "metadata": {},
   "outputs": [
    {
     "name": "stdout",
     "output_type": "stream",
     "text": [
      "What a time to be alive\n"
     ]
    }
   ],
   "source": [
    "def test_fcn():\n",
    "    print(\"What a time to be alive\")\n",
    "    return\n",
    "\n",
    "test_fcn()"
   ]
  },
  {
   "cell_type": "code",
   "execution_count": null,
   "id": "b5f5691a-e797-4163-8e3f-4870870650e1",
   "metadata": {},
   "outputs": [],
   "source": []
  },
  {
   "cell_type": "markdown",
   "id": "062d4372-b53b-4775-af19-d8e7bd3dc628",
   "metadata": {},
   "source": [
    "### Memory\n",
    "be carefuly with function calls~!"
   ]
  },
  {
   "cell_type": "code",
   "execution_count": 16,
   "id": "632a1bd3-449e-4c7d-8fc6-1016396c6fe8",
   "metadata": {},
   "outputs": [
    {
     "name": "stdout",
     "output_type": "stream",
     "text": [
      "140707607822840\n",
      "140707607822840\n",
      "[67, 134, 'straw']\n",
      "1761574742608\n",
      "[67, 134, 'straw']\n",
      "1761575095040\n"
     ]
    }
   ],
   "source": [
    "# Example 1: How does an item in a list get stored?\n",
    "int1 = 67\n",
    "print(id(int1))\n",
    "list2 = [int1, int1+int1, 'straw']\n",
    "print(id(list2[0]))\n",
    "print(list2)\n",
    "int1 = 100.0\n",
    "print(id(int1))\n",
    "print(list2)\n",
    "print(id(list2))"
   ]
  },
  {
   "cell_type": "code",
   "execution_count": null,
   "id": "c552159d-50e5-4fe2-8e8f-173aa05b5c4e",
   "metadata": {},
   "outputs": [],
   "source": [
    "# Example 2: For loop and local variables\n",
    "xx = 0\n",
    "for ii in range(10):\n",
    "    xx += 1\n",
    "    yy = ii                            \n",
    "print(xx)\n",
    "# yy won't be saved outside of the loop in other languages, but in Python, it persists\n",
    "print(yy)"
   ]
  },
  {
   "cell_type": "code",
   "execution_count": 19,
   "id": "7542ef9a-8816-4210-8679-bff593d8aa3d",
   "metadata": {},
   "outputs": [
    {
     "name": "stdout",
     "output_type": "stream",
     "text": [
      "[10]\n",
      "[10]\n"
     ]
    }
   ],
   "source": [
    "# Example 3: Functions and scope\n",
    "def test_ls(xx: int, ls: list):\n",
    "    ls.append(xx)\n",
    "    return ls\n",
    "\n",
    "ls = []\n",
    "xx = 10\n",
    "ls2 = test_ls(xx, ls)\n",
    "print(ls)\n",
    "print(ls2)"
   ]
  },
  {
   "cell_type": "code",
   "execution_count": 24,
   "id": "8b3c9bb3-4aba-42cf-9d4e-ea8a581890b8",
   "metadata": {},
   "outputs": [
    {
     "name": "stdout",
     "output_type": "stream",
     "text": [
      "[10]\n",
      "[10]\n"
     ]
    }
   ],
   "source": [
    "def test_arr(xx: int, arr: np.ndarray):\n",
    "    arr[0] = xx\n",
    "    return arr\n",
    "\n",
    "arr = np.zeros(1, dtype=int)\n",
    "xx = 10\n",
    "arr2 = test_arr(xx, arr)\n",
    "print(arr)\n",
    "print(arr2)"
   ]
  },
  {
   "cell_type": "code",
   "execution_count": 25,
   "id": "0ea3130c-9b0a-41a3-9b88-8efa5360d618",
   "metadata": {},
   "outputs": [
    {
     "name": "stdout",
     "output_type": "stream",
     "text": [
      "int64\n",
      "int64\n"
     ]
    }
   ],
   "source": [
    "print(arr.dtype)\n",
    "print(arr2.dtype)"
   ]
  },
  {
   "cell_type": "markdown",
   "id": "75ac6809-1ace-4e2c-a10b-b720573a386e",
   "metadata": {},
   "source": [
    "### File searching\n",
    "This may be the most important non-scientific topic we will go over. Understanding how to precisely select what we want in a simple way will pay dividends when we have many studies with different types of scans, file types, etc. <br>\n",
    "Our savior is going to be a package called \"glob\" that is a Linux-style filesearching library"
   ]
  },
  {
   "cell_type": "code",
   "execution_count": 42,
   "id": "79649699-2322-4aca-b5c6-7c87fd2f5808",
   "metadata": {},
   "outputs": [
    {
     "name": "stdout",
     "output_type": "stream",
     "text": [
      "[]\n"
     ]
    }
   ],
   "source": [
    "import glob\n",
    "\n",
    "# filepaths = fps\n",
    "fps = glob.glob(r'C:\\Users\\ddesarn\\Downloads\\**\\*.dcm')\n",
    "print(fps)\n",
    "# Can also use glob for a recurvsive file search using argument recursive=True"
   ]
  },
  {
   "cell_type": "markdown",
   "id": "5d8b9115-6809-4706-929a-cc100bc1622c",
   "metadata": {},
   "source": [
    "### NumPy\n",
    "One of the main differences about writing good Python code involves learning to make use of NumPy instead of using for loops. This is because in Python, every variable is an object. Iterating using objects is slow in terms of loading the information and performing actions. This is in contrast to for example a for loop using integers in C++, where we are only loading in that 8bit number for example. NumPy takes what we want to do and does it using C++ variables and returns it. <br> \n",
    "Why would we do it this way? It natural to write/read, turns loops into one liners "
   ]
  },
  {
   "cell_type": "code",
   "execution_count": null,
   "id": "124ee84d-d467-4924-9691-e16100b4cc85",
   "metadata": {},
   "outputs": [],
   "source": [
    "# var[]   is for indexing\n",
    "    # var()   is saying variable is a function and we are calling something\n",
    "\n",
    "    list1 = [26, 27, 28]  # Lists are muteable        list()\n",
    "    tuple1 = (26, 27, 28)  # Tuples are immuteable    tuple()\n",
    "    zeros = np.zeros((47, 512, 512))\n",
    "    ones = -256 * np.ones((47, 512, 512))\n",
    "    zeros_like = np.zeros_like(zeros)\n",
    "    # tuple1[0] = 10\n",
    "    # print(tuple1)\n",
    "    # arr = np.array(list1)  # one example of numpy array instance\n",
    "    # print(type(arr))\n",
    "    # if isinstance(arr, np.ndarray):  # checks if the object is the correct type\n",
    "    #     print('True!')\n",
    "\n",
    "    # example 2\n",
    "    # listnames = [['Danny', 26], ['Dannt', 56], ['Dannl', 15], ['Dannu', 31]]  # lists are good when we mix types\n",
    "    #\n",
    "    # arr2 = np.array(np.array(listnames, dtype=str)[:, 1], dtype=np.int16)  # dtype=np.int16\n",
    "    # # print(arr2)\n",
    "    # mean = np.mean(arr2, dtype=int)\n",
    "    # print(mean)\n",
    "\n",
    "    # example 3\n",
    "    # arr1 = np.arange(0, 1000, 0.9)\n",
    "    # print(arr1)\n",
    "    # print(arr1.ndim)  # = 1\n",
    "    # arr2 = np.linspace(0, 1000, 20)\n",
    "    # print(arr2)\n",
    "    # arr2 = np.reshape(arr2, (2, 2, 5))  # shape is the size of the dimension\n",
    "    # # arr2 = arr2.reshape((, 1))  # alternative way\n",
    "    # print(arr2.shape)  # 4 by 5 matrix\n",
    "    # print(arr2.ndim)  # could be 2\n",
    "    # list1 = [0, 1, 2, 3...]  -> [[0], [1], [2], ...\n",
    "    # arr1.ndim = 1, arr1.shape\n",
    "    # arr3 = [[0],\n",
    "    #         [1],\n",
    "    #         [3]]\n",
    "    # # dcm_data[slc, row, col] =\n",
    "\n",
    "    # arr4 = np.array([[[256]]])\n",
    "    # print(arr4.ndim)\n",
    "    # print(arr4.shape)\n",
    "    # print(arr4)\n",
    "\n",
    "    arr5 = 1*np.linspace(2, 100, 18).reshape((3, 2, 3))\n",
    "    print(arr5)\n",
    "    arr6 = 2*np.ones((3, 2)).reshape((3, 2, 1))\n",
    "    arr7 = arr5 * arr6\n",
    "    print(arr7)"
   ]
  }
 ],
 "metadata": {
  "kernelspec": {
   "display_name": "Python 3 (ipykernel)",
   "language": "python",
   "name": "python3"
  },
  "language_info": {
   "codemirror_mode": {
    "name": "ipython",
    "version": 3
   },
   "file_extension": ".py",
   "mimetype": "text/x-python",
   "name": "python",
   "nbconvert_exporter": "python",
   "pygments_lexer": "ipython3",
   "version": "3.12.4"
  }
 },
 "nbformat": 4,
 "nbformat_minor": 5
}
